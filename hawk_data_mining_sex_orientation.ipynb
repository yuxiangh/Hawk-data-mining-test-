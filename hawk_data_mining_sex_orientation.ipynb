{
 "cells": [
  {
   "cell_type": "code",
   "execution_count": 7,
   "metadata": {
    "collapsed": true
   },
   "outputs": [],
   "source": [
    "import pandas as pd \n",
    "import numpy as np\n",
    "import matplotlib.pyplot as plt \n",
    "%matplotlib inline"
   ]
  },
  {
   "cell_type": "code",
   "execution_count": 3,
   "metadata": {},
   "outputs": [
    {
     "name": "stderr",
     "output_type": "stream",
     "text": [
      "/Library/Frameworks/Python.framework/Versions/3.6/lib/python3.6/site-packages/IPython/core/interactiveshell.py:2728: DtypeWarning: Columns (32,41,42) have mixed types. Specify dtype option on import or set low_memory=False.\n",
      "  interactivity=interactivity, compiler=compiler, result=result)\n"
     ]
    }
   ],
   "source": [
    "data=pd.read_csv(\"perfect_data_n625906.csv\")"
   ]
  },
  {
   "cell_type": "code",
   "execution_count": 4,
   "metadata": {},
   "outputs": [
    {
     "data": {
      "text/html": [
       "<div>\n",
       "<style scoped>\n",
       "    .dataframe tbody tr th:only-of-type {\n",
       "        vertical-align: middle;\n",
       "    }\n",
       "\n",
       "    .dataframe tbody tr th {\n",
       "        vertical-align: top;\n",
       "    }\n",
       "\n",
       "    .dataframe thead th {\n",
       "        text-align: right;\n",
       "    }\n",
       "</style>\n",
       "<table border=\"1\" class=\"dataframe\">\n",
       "  <thead>\n",
       "    <tr style=\"text-align: right;\">\n",
       "      <th></th>\n",
       "      <th>Unnamed: 0</th>\n",
       "      <th>Name</th>\n",
       "      <th>Degree</th>\n",
       "      <th>Race</th>\n",
       "      <th>Gender</th>\n",
       "      <th>Age</th>\n",
       "      <th>Sexorient</th>\n",
       "      <th>Certainty</th>\n",
       "      <th>Change</th>\n",
       "      <th>Homo</th>\n",
       "      <th>...</th>\n",
       "      <th>Hetero</th>\n",
       "      <th>Mso</th>\n",
       "      <th>Sor</th>\n",
       "      <th>Sexdrive</th>\n",
       "      <th>Time</th>\n",
       "      <th>Date</th>\n",
       "      <th>IP</th>\n",
       "      <th>GroupCode</th>\n",
       "      <th>IP_from_R_analysis</th>\n",
       "      <th>Country</th>\n",
       "    </tr>\n",
       "  </thead>\n",
       "  <tbody>\n",
       "    <tr>\n",
       "      <th>0</th>\n",
       "      <td>1</td>\n",
       "      <td>Niomi M</td>\n",
       "      <td>High School</td>\n",
       "      <td>Black</td>\n",
       "      <td>Female</td>\n",
       "      <td>15.0</td>\n",
       "      <td>Bisexual</td>\n",
       "      <td>9.0</td>\n",
       "      <td>No</td>\n",
       "      <td>17</td>\n",
       "      <td>...</td>\n",
       "      <td>11</td>\n",
       "      <td>12.0</td>\n",
       "      <td>11</td>\n",
       "      <td>14.0</td>\n",
       "      <td>4:15:15</td>\n",
       "      <td>4/15/2007</td>\n",
       "      <td>69.69.8.89</td>\n",
       "      <td>NaN</td>\n",
       "      <td>69.69.8.89</td>\n",
       "      <td>United States</td>\n",
       "    </tr>\n",
       "    <tr>\n",
       "      <th>1</th>\n",
       "      <td>2</td>\n",
       "      <td>Phil P</td>\n",
       "      <td>High School</td>\n",
       "      <td>White</td>\n",
       "      <td>Male</td>\n",
       "      <td>31.0</td>\n",
       "      <td>Other</td>\n",
       "      <td>8.0</td>\n",
       "      <td>No</td>\n",
       "      <td>15</td>\n",
       "      <td>...</td>\n",
       "      <td>17</td>\n",
       "      <td>8.0</td>\n",
       "      <td>15</td>\n",
       "      <td>16.0</td>\n",
       "      <td>4:17:14</td>\n",
       "      <td>4/15/2007</td>\n",
       "      <td>129.44.236.130</td>\n",
       "      <td>NaN</td>\n",
       "      <td>129.44.236.130</td>\n",
       "      <td>United States</td>\n",
       "    </tr>\n",
       "    <tr>\n",
       "      <th>2</th>\n",
       "      <td>3</td>\n",
       "      <td>Jamie B</td>\n",
       "      <td>College</td>\n",
       "      <td>White</td>\n",
       "      <td>Male</td>\n",
       "      <td>41.0</td>\n",
       "      <td>Bisexual</td>\n",
       "      <td>10.0</td>\n",
       "      <td>Yes</td>\n",
       "      <td>18</td>\n",
       "      <td>...</td>\n",
       "      <td>10</td>\n",
       "      <td>13.0</td>\n",
       "      <td>10</td>\n",
       "      <td>14.0</td>\n",
       "      <td>5:24:07</td>\n",
       "      <td>4/15/2007</td>\n",
       "      <td>74.109.44.47</td>\n",
       "      <td>NaN</td>\n",
       "      <td>74.109.44.47</td>\n",
       "      <td>United States</td>\n",
       "    </tr>\n",
       "    <tr>\n",
       "      <th>3</th>\n",
       "      <td>4</td>\n",
       "      <td>stevek</td>\n",
       "      <td>College</td>\n",
       "      <td>White</td>\n",
       "      <td>Male</td>\n",
       "      <td>53.0</td>\n",
       "      <td>Straight</td>\n",
       "      <td>3.0</td>\n",
       "      <td>No</td>\n",
       "      <td>9</td>\n",
       "      <td>...</td>\n",
       "      <td>18</td>\n",
       "      <td>4.5</td>\n",
       "      <td>9</td>\n",
       "      <td>13.5</td>\n",
       "      <td>9:57:16</td>\n",
       "      <td>4/15/2007</td>\n",
       "      <td>69.142.164.173</td>\n",
       "      <td>NaN</td>\n",
       "      <td>69.142.164.173</td>\n",
       "      <td>United States</td>\n",
       "    </tr>\n",
       "    <tr>\n",
       "      <th>4</th>\n",
       "      <td>5</td>\n",
       "      <td>jose</td>\n",
       "      <td>College</td>\n",
       "      <td>White</td>\n",
       "      <td>Male</td>\n",
       "      <td>23.0</td>\n",
       "      <td>Straight</td>\n",
       "      <td>9.0</td>\n",
       "      <td>No</td>\n",
       "      <td>9</td>\n",
       "      <td>...</td>\n",
       "      <td>16</td>\n",
       "      <td>5.5</td>\n",
       "      <td>9</td>\n",
       "      <td>12.5</td>\n",
       "      <td>11:05:14</td>\n",
       "      <td>4/15/2007</td>\n",
       "      <td>201.141.114.42</td>\n",
       "      <td>NaN</td>\n",
       "      <td>201.141.114.42</td>\n",
       "      <td>Mexico</td>\n",
       "    </tr>\n",
       "  </tbody>\n",
       "</table>\n",
       "<p>5 rows × 44 columns</p>\n",
       "</div>"
      ],
      "text/plain": [
       "   Unnamed: 0     Name       Degree   Race  Gender   Age Sexorient  Certainty  \\\n",
       "0           1  Niomi M  High School  Black  Female  15.0  Bisexual        9.0   \n",
       "1           2   Phil P  High School  White    Male  31.0     Other        8.0   \n",
       "2           3  Jamie B      College  White    Male  41.0  Bisexual       10.0   \n",
       "3           4   stevek      College  White    Male  53.0  Straight        3.0   \n",
       "4           5     jose      College  White    Male  23.0  Straight        9.0   \n",
       "\n",
       "  Change  Homo      ...        Hetero   Mso  Sor  Sexdrive      Time  \\\n",
       "0     No    17      ...            11  12.0   11      14.0   4:15:15   \n",
       "1     No    15      ...            17   8.0   15      16.0   4:17:14   \n",
       "2    Yes    18      ...            10  13.0   10      14.0   5:24:07   \n",
       "3     No     9      ...            18   4.5    9      13.5   9:57:16   \n",
       "4     No     9      ...            16   5.5    9      12.5  11:05:14   \n",
       "\n",
       "        Date              IP  GroupCode  IP_from_R_analysis        Country  \n",
       "0  4/15/2007      69.69.8.89        NaN          69.69.8.89  United States  \n",
       "1  4/15/2007  129.44.236.130        NaN      129.44.236.130  United States  \n",
       "2  4/15/2007    74.109.44.47        NaN        74.109.44.47  United States  \n",
       "3  4/15/2007  69.142.164.173        NaN      69.142.164.173  United States  \n",
       "4  4/15/2007  201.141.114.42        NaN      201.141.114.42         Mexico  \n",
       "\n",
       "[5 rows x 44 columns]"
      ]
     },
     "execution_count": 4,
     "metadata": {},
     "output_type": "execute_result"
    }
   ],
   "source": [
    "data.head()"
   ]
  },
  {
   "cell_type": "code",
   "execution_count": 5,
   "metadata": {
    "collapsed": true
   },
   "outputs": [],
   "source": [
    "#the first problems is that we would like to know the MSO distribution "
   ]
  },
  {
   "cell_type": "code",
   "execution_count": 8,
   "metadata": {},
   "outputs": [
    {
     "data": {
      "text/plain": [
       "<matplotlib.axes._subplots.AxesSubplot at 0x10b60dda0>"
      ]
     },
     "execution_count": 8,
     "metadata": {},
     "output_type": "execute_result"
    },
    {
     "data": {
      "image/png": "[encoded data removed]",
      "text/plain": [
       "<matplotlib.figure.Figure at 0x10ba0ccf8>"
      ]
     },
     "metadata": {},
     "output_type": "display_data"
    }
   ],
   "source": [
    "data.Mso.hist()"
   ]
  },
  {
   "cell_type": "code",
   "execution_count": 29,
   "metadata": {
    "collapsed": true
   },
   "outputs": [],
   "source": [
    "people_data=pd.Series(data[\"Mso\"].groupby(data[\"Sexorient\"]).mean())"
   ]
  },
  {
   "cell_type": "code",
   "execution_count": 30,
   "metadata": {},
   "outputs": [
    {
     "data": {
      "text/plain": [
       "Sexorient\n",
       "Gay         13.800378\n",
       "Bisexual     8.958637\n",
       "Other        8.748281\n",
       "Unsure       8.534076\n",
       "Asexual      8.307469\n",
       "Straight     4.693894\n",
       "Name: Mso, dtype: float64"
      ]
     },
     "execution_count": 30,
     "metadata": {},
     "output_type": "execute_result"
    }
   ],
   "source": [
    "people_data.sort_values(ascending=False)"
   ]
  },
  {
   "cell_type": "code",
   "execution_count": null,
   "metadata": {
    "collapsed": true
   },
   "outputs": [],
   "source": [
    "#we would like to know different country people sex orientation distribution "
   ]
  },
  {
   "cell_type": "code",
   "execution_count": 32,
   "metadata": {
    "collapsed": true
   },
   "outputs": [],
   "source": [
    "country_data=pd.Series(data[\"Mso\"].groupby(data[\"Country\"]).mean())"
   ]
  },
  {
   "cell_type": "code",
   "execution_count": 33,
   "metadata": {},
   "outputs": [
    {
     "data": {
      "text/plain": [
       "Country\n",
       "Burundi                              12.500000\n",
       "Swaziland                            11.375000\n",
       "Bonaire, Sint Eustatius, and Saba    11.000000\n",
       "Tonga                                10.500000\n",
       "Cape Verde                           10.125000\n",
       "Liberia                               9.833333\n",
       "Federated States of Micronesia        9.500000\n",
       "Comoros                               9.500000\n",
       "Saint Pierre and Miquelon             9.500000\n",
       "Martinique                            9.428571\n",
       "New Caledonia                         9.416667\n",
       "El Salvador                           9.228916\n",
       "Guadeloupe                            9.200000\n",
       "<c5>land                              9.166667\n",
       "Belize                                9.163043\n",
       "R<e9>union                            9.071429\n",
       "Sint Maarten                          9.029412\n",
       "Republic of the Congo                 9.000000\n",
       "Antigua and Barbuda                   8.975000\n",
       "Madagascar                            8.970588\n",
       "Cura<e7>ao                            8.915094\n",
       "Taiwan (Rep. of China)                8.900000\n",
       "Nicaragua                             8.741071\n",
       "Malaysia                              8.638679\n",
       "Grenada                               8.628205\n",
       "Namibia                               8.626984\n",
       "Northern Mariana Islands              8.617647\n",
       "Vietnam                               8.604082\n",
       "Paraguay                              8.584270\n",
       "Honduras                              8.571429\n",
       "                                       ...    \n",
       "Gambia                                6.833333\n",
       "Greenland                             6.833333\n",
       "North Korea                           6.785714\n",
       "Libya                                 6.750000\n",
       "Haiti                                 6.750000\n",
       "Bahrain                               6.714286\n",
       "Afghanistan                           6.680124\n",
       "Uganda                                6.664384\n",
       "Cayman Islands                        6.600000\n",
       "Dem. Rep. of Congo                    6.500000\n",
       "Saint Vincent and the Grenadines      6.500000\n",
       "Bangladesh                            6.392966\n",
       "Kosovo                                6.285714\n",
       "Saint Kitts and Nevis                 6.208333\n",
       "Mayotte                               6.000000\n",
       "Senegal                               5.909091\n",
       "Burkina Faso                          5.833333\n",
       "Anguilla                              5.800000\n",
       "South Sudan                           5.750000\n",
       "Monaco                                5.666667\n",
       "Papua New Guinea                      5.611111\n",
       "French Guiana                         5.500000\n",
       "Saint Martin                          5.333333\n",
       "Turkmenistan                          5.000000\n",
       "British Virgin Islands                4.642857\n",
       "Mauritania                            4.214286\n",
       "Djibouti                              4.166667\n",
       "Tajikistan                            4.166667\n",
       "Benin                                 1.500000\n",
       "Samoa                                 1.000000\n",
       "Name: Mso, Length: 219, dtype: float64"
      ]
     },
     "execution_count": 33,
     "metadata": {},
     "output_type": "execute_result"
    }
   ],
   "source": [
    "country_data.sort_values(ascending=False)"
   ]
  },
  {
   "cell_type": "code",
   "execution_count": 34,
   "metadata": {},
   "outputs": [
    {
     "data": {
      "text/html": [
       "<div>\n",
       "<style scoped>\n",
       "    .dataframe tbody tr th:only-of-type {\n",
       "        vertical-align: middle;\n",
       "    }\n",
       "\n",
       "    .dataframe tbody tr th {\n",
       "        vertical-align: top;\n",
       "    }\n",
       "\n",
       "    .dataframe thead th {\n",
       "        text-align: right;\n",
       "    }\n",
       "</style>\n",
       "<table border=\"1\" class=\"dataframe\">\n",
       "  <thead>\n",
       "    <tr style=\"text-align: right;\">\n",
       "      <th></th>\n",
       "      <th>Unnamed: 0</th>\n",
       "      <th>Name</th>\n",
       "      <th>Degree</th>\n",
       "      <th>Race</th>\n",
       "      <th>Gender</th>\n",
       "      <th>Age</th>\n",
       "      <th>Sexorient</th>\n",
       "      <th>Certainty</th>\n",
       "      <th>Change</th>\n",
       "      <th>Homo</th>\n",
       "      <th>...</th>\n",
       "      <th>Hetero</th>\n",
       "      <th>Mso</th>\n",
       "      <th>Sor</th>\n",
       "      <th>Sexdrive</th>\n",
       "      <th>Time</th>\n",
       "      <th>Date</th>\n",
       "      <th>IP</th>\n",
       "      <th>GroupCode</th>\n",
       "      <th>IP_from_R_analysis</th>\n",
       "      <th>Country</th>\n",
       "    </tr>\n",
       "  </thead>\n",
       "  <tbody>\n",
       "    <tr>\n",
       "      <th>0</th>\n",
       "      <td>1</td>\n",
       "      <td>Niomi M</td>\n",
       "      <td>High School</td>\n",
       "      <td>Black</td>\n",
       "      <td>Female</td>\n",
       "      <td>15.0</td>\n",
       "      <td>Bisexual</td>\n",
       "      <td>9.0</td>\n",
       "      <td>No</td>\n",
       "      <td>17</td>\n",
       "      <td>...</td>\n",
       "      <td>11</td>\n",
       "      <td>12.0</td>\n",
       "      <td>11</td>\n",
       "      <td>14.0</td>\n",
       "      <td>4:15:15</td>\n",
       "      <td>4/15/2007</td>\n",
       "      <td>69.69.8.89</td>\n",
       "      <td>NaN</td>\n",
       "      <td>69.69.8.89</td>\n",
       "      <td>United States</td>\n",
       "    </tr>\n",
       "    <tr>\n",
       "      <th>1</th>\n",
       "      <td>2</td>\n",
       "      <td>Phil P</td>\n",
       "      <td>High School</td>\n",
       "      <td>White</td>\n",
       "      <td>Male</td>\n",
       "      <td>31.0</td>\n",
       "      <td>Other</td>\n",
       "      <td>8.0</td>\n",
       "      <td>No</td>\n",
       "      <td>15</td>\n",
       "      <td>...</td>\n",
       "      <td>17</td>\n",
       "      <td>8.0</td>\n",
       "      <td>15</td>\n",
       "      <td>16.0</td>\n",
       "      <td>4:17:14</td>\n",
       "      <td>4/15/2007</td>\n",
       "      <td>129.44.236.130</td>\n",
       "      <td>NaN</td>\n",
       "      <td>129.44.236.130</td>\n",
       "      <td>United States</td>\n",
       "    </tr>\n",
       "    <tr>\n",
       "      <th>2</th>\n",
       "      <td>3</td>\n",
       "      <td>Jamie B</td>\n",
       "      <td>College</td>\n",
       "      <td>White</td>\n",
       "      <td>Male</td>\n",
       "      <td>41.0</td>\n",
       "      <td>Bisexual</td>\n",
       "      <td>10.0</td>\n",
       "      <td>Yes</td>\n",
       "      <td>18</td>\n",
       "      <td>...</td>\n",
       "      <td>10</td>\n",
       "      <td>13.0</td>\n",
       "      <td>10</td>\n",
       "      <td>14.0</td>\n",
       "      <td>5:24:07</td>\n",
       "      <td>4/15/2007</td>\n",
       "      <td>74.109.44.47</td>\n",
       "      <td>NaN</td>\n",
       "      <td>74.109.44.47</td>\n",
       "      <td>United States</td>\n",
       "    </tr>\n",
       "    <tr>\n",
       "      <th>3</th>\n",
       "      <td>4</td>\n",
       "      <td>stevek</td>\n",
       "      <td>College</td>\n",
       "      <td>White</td>\n",
       "      <td>Male</td>\n",
       "      <td>53.0</td>\n",
       "      <td>Straight</td>\n",
       "      <td>3.0</td>\n",
       "      <td>No</td>\n",
       "      <td>9</td>\n",
       "      <td>...</td>\n",
       "      <td>18</td>\n",
       "      <td>4.5</td>\n",
       "      <td>9</td>\n",
       "      <td>13.5</td>\n",
       "      <td>9:57:16</td>\n",
       "      <td>4/15/2007</td>\n",
       "      <td>69.142.164.173</td>\n",
       "      <td>NaN</td>\n",
       "      <td>69.142.164.173</td>\n",
       "      <td>United States</td>\n",
       "    </tr>\n",
       "    <tr>\n",
       "      <th>4</th>\n",
       "      <td>5</td>\n",
       "      <td>jose</td>\n",
       "      <td>College</td>\n",
       "      <td>White</td>\n",
       "      <td>Male</td>\n",
       "      <td>23.0</td>\n",
       "      <td>Straight</td>\n",
       "      <td>9.0</td>\n",
       "      <td>No</td>\n",
       "      <td>9</td>\n",
       "      <td>...</td>\n",
       "      <td>16</td>\n",
       "      <td>5.5</td>\n",
       "      <td>9</td>\n",
       "      <td>12.5</td>\n",
       "      <td>11:05:14</td>\n",
       "      <td>4/15/2007</td>\n",
       "      <td>201.141.114.42</td>\n",
       "      <td>NaN</td>\n",
       "      <td>201.141.114.42</td>\n",
       "      <td>Mexico</td>\n",
       "    </tr>\n",
       "  </tbody>\n",
       "</table>\n",
       "<p>5 rows × 44 columns</p>\n",
       "</div>"
      ],
      "text/plain": [
       "   Unnamed: 0     Name       Degree   Race  Gender   Age Sexorient  Certainty  \\\n",
       "0           1  Niomi M  High School  Black  Female  15.0  Bisexual        9.0   \n",
       "1           2   Phil P  High School  White    Male  31.0     Other        8.0   \n",
       "2           3  Jamie B      College  White    Male  41.0  Bisexual       10.0   \n",
       "3           4   stevek      College  White    Male  53.0  Straight        3.0   \n",
       "4           5     jose      College  White    Male  23.0  Straight        9.0   \n",
       "\n",
       "  Change  Homo      ...        Hetero   Mso  Sor  Sexdrive      Time  \\\n",
       "0     No    17      ...            11  12.0   11      14.0   4:15:15   \n",
       "1     No    15      ...            17   8.0   15      16.0   4:17:14   \n",
       "2    Yes    18      ...            10  13.0   10      14.0   5:24:07   \n",
       "3     No     9      ...            18   4.5    9      13.5   9:57:16   \n",
       "4     No     9      ...            16   5.5    9      12.5  11:05:14   \n",
       "\n",
       "        Date              IP  GroupCode  IP_from_R_analysis        Country  \n",
       "0  4/15/2007      69.69.8.89        NaN          69.69.8.89  United States  \n",
       "1  4/15/2007  129.44.236.130        NaN      129.44.236.130  United States  \n",
       "2  4/15/2007    74.109.44.47        NaN        74.109.44.47  United States  \n",
       "3  4/15/2007  69.142.164.173        NaN      69.142.164.173  United States  \n",
       "4  4/15/2007  201.141.114.42        NaN      201.141.114.42         Mexico  \n",
       "\n",
       "[5 rows x 44 columns]"
      ]
     },
     "execution_count": 34,
     "metadata": {},
     "output_type": "execute_result"
    }
   ],
   "source": [
    "data.head()"
   ]
  },
  {
   "cell_type": "code",
   "execution_count": 37,
   "metadata": {},
   "outputs": [
    {
     "data": {
      "text/plain": [
       "array(['Bisexual', 'Other', 'Straight', 'Gay', nan, 'Unsure', 'Asexual'],\n",
       "      dtype=object)"
      ]
     },
     "execution_count": 37,
     "metadata": {},
     "output_type": "execute_result"
    }
   ],
   "source": [
    "data[\"Sexorient\"].unique()"
   ]
  },
  {
   "cell_type": "code",
   "execution_count": 38,
   "metadata": {
    "collapsed": true
   },
   "outputs": [],
   "source": [
    "bisexual_people=data[data[\"Sexorient\"]==\"Bisexual\"]\n",
    "other_people=data[data[\"Sexorient\"]==\"Other\"]\n",
    "straight_people=data[data[\"Sexorient\"]==\"Straight\"]\n",
    "gay_people=data[data[\"Sexorient\"]==\"Gay\"]\n",
    "unsure_people=data[data[\"Sexorient\"]==\"Unsure\"]\n",
    "asexual_people=data[data[\"Sexorient\"]==\"Asexual\"]"
   ]
  },
  {
   "cell_type": "code",
   "execution_count": 40,
   "metadata": {},
   "outputs": [
    {
     "data": {
      "text/plain": [
       "<matplotlib.axes._subplots.AxesSubplot at 0x113e34b00>"
      ]
     },
     "execution_count": 40,
     "metadata": {},
     "output_type": "execute_result"
    },
    {
     "data": {
      "image/png": "[encoded data removed]",
      "text/plain": [
       "<matplotlib.figure.Figure at 0x114f004e0>"
      ]
     },
     "metadata": {},
     "output_type": "display_data"
    }
   ],
   "source": [
    "bisexual_people.Mso.hist()\n",
    "\n"
   ]
  },
  {
   "cell_type": "code",
   "execution_count": 41,
   "metadata": {},
   "outputs": [
    {
     "data": {
      "text/plain": [
       "<matplotlib.axes._subplots.AxesSubplot at 0x115bbc4e0>"
      ]
     },
     "execution_count": 41,
     "metadata": {},
     "output_type": "execute_result"
    },
    {
     "data": {
      "image/png": "[encoded data removed]",
      "text/plain": [
       "<matplotlib.figure.Figure at 0x115bc7cc0>"
      ]
     },
     "metadata": {},
     "output_type": "display_data"
    }
   ],
   "source": [
    "other_people.Mso.hist()\n"
   ]
  },
  {
   "cell_type": "code",
   "execution_count": 42,
   "metadata": {},
   "outputs": [
    {
     "data": {
      "text/plain": [
       "<matplotlib.axes._subplots.AxesSubplot at 0x115cd29e8>"
      ]
     },
     "execution_count": 42,
     "metadata": {},
     "output_type": "execute_result"
    },
    {
     "data": {
      "image/png": "[encoded data removed]",
      "text/plain": [
       "<matplotlib.figure.Figure at 0x11632ff28>"
      ]
     },
     "metadata": {},
     "output_type": "display_data"
    }
   ],
   "source": [
    "\n",
    "straight_people.Mso.hist()\n"
   ]
  },
  {
   "cell_type": "code",
   "execution_count": 43,
   "metadata": {},
   "outputs": [
    {
     "data": {
      "text/plain": [
       "<matplotlib.axes._subplots.AxesSubplot at 0x11645b0b8>"
      ]
     },
     "execution_count": 43,
     "metadata": {},
     "output_type": "execute_result"
    },
    {
     "data": {
      "image/png": "[encoded data removed]",
      "text/plain": [
       "<matplotlib.figure.Figure at 0x115cd26d8>"
      ]
     },
     "metadata": {},
     "output_type": "display_data"
    }
   ],
   "source": [
    "gay_people.Mso.hist()\n"
   ]
  },
  {
   "cell_type": "code",
   "execution_count": 44,
   "metadata": {},
   "outputs": [
    {
     "data": {
      "text/plain": [
       "<matplotlib.axes._subplots.AxesSubplot at 0x116b0d9e8>"
      ]
     },
     "execution_count": 44,
     "metadata": {},
     "output_type": "execute_result"
    },
    {
     "data": {
      "image/png": "[encoded data removed]",
      "text/plain": [
       "<matplotlib.figure.Figure at 0x1184569e8>"
      ]
     },
     "metadata": {},
     "output_type": "display_data"
    }
   ],
   "source": [
    "unsure_people.Mso.hist()\n"
   ]
  },
  {
   "cell_type": "code",
   "execution_count": 45,
   "metadata": {},
   "outputs": [
    {
     "data": {
      "text/plain": [
       "<matplotlib.axes._subplots.AxesSubplot at 0x1183ed2e8>"
      ]
     },
     "execution_count": 45,
     "metadata": {},
     "output_type": "execute_result"
    },
    {
     "data": {
      "image/png": "[encoded data removed]",
      "text/plain": [
       "<matplotlib.figure.Figure at 0x1184b54a8>"
      ]
     },
     "metadata": {},
     "output_type": "display_data"
    }
   ],
   "source": [
    "asexual_people.Mso.hist()"
   ]
  },
  {
   "cell_type": "code",
   "execution_count": 46,
   "metadata": {},
   "outputs": [
    {
     "data": {
      "text/html": [
       "<div>\n",
       "<style scoped>\n",
       "    .dataframe tbody tr th:only-of-type {\n",
       "        vertical-align: middle;\n",
       "    }\n",
       "\n",
       "    .dataframe tbody tr th {\n",
       "        vertical-align: top;\n",
       "    }\n",
       "\n",
       "    .dataframe thead th {\n",
       "        text-align: right;\n",
       "    }\n",
       "</style>\n",
       "<table border=\"1\" class=\"dataframe\">\n",
       "  <thead>\n",
       "    <tr style=\"text-align: right;\">\n",
       "      <th></th>\n",
       "      <th>Unnamed: 0</th>\n",
       "      <th>Name</th>\n",
       "      <th>Degree</th>\n",
       "      <th>Race</th>\n",
       "      <th>Gender</th>\n",
       "      <th>Age</th>\n",
       "      <th>Sexorient</th>\n",
       "      <th>Certainty</th>\n",
       "      <th>Change</th>\n",
       "      <th>Homo</th>\n",
       "      <th>...</th>\n",
       "      <th>Hetero</th>\n",
       "      <th>Mso</th>\n",
       "      <th>Sor</th>\n",
       "      <th>Sexdrive</th>\n",
       "      <th>Time</th>\n",
       "      <th>Date</th>\n",
       "      <th>IP</th>\n",
       "      <th>GroupCode</th>\n",
       "      <th>IP_from_R_analysis</th>\n",
       "      <th>Country</th>\n",
       "    </tr>\n",
       "  </thead>\n",
       "  <tbody>\n",
       "    <tr>\n",
       "      <th>0</th>\n",
       "      <td>1</td>\n",
       "      <td>Niomi M</td>\n",
       "      <td>High School</td>\n",
       "      <td>Black</td>\n",
       "      <td>Female</td>\n",
       "      <td>15.0</td>\n",
       "      <td>Bisexual</td>\n",
       "      <td>9.0</td>\n",
       "      <td>No</td>\n",
       "      <td>17</td>\n",
       "      <td>...</td>\n",
       "      <td>11</td>\n",
       "      <td>12.0</td>\n",
       "      <td>11</td>\n",
       "      <td>14.0</td>\n",
       "      <td>4:15:15</td>\n",
       "      <td>4/15/2007</td>\n",
       "      <td>69.69.8.89</td>\n",
       "      <td>NaN</td>\n",
       "      <td>69.69.8.89</td>\n",
       "      <td>United States</td>\n",
       "    </tr>\n",
       "    <tr>\n",
       "      <th>1</th>\n",
       "      <td>2</td>\n",
       "      <td>Phil P</td>\n",
       "      <td>High School</td>\n",
       "      <td>White</td>\n",
       "      <td>Male</td>\n",
       "      <td>31.0</td>\n",
       "      <td>Other</td>\n",
       "      <td>8.0</td>\n",
       "      <td>No</td>\n",
       "      <td>15</td>\n",
       "      <td>...</td>\n",
       "      <td>17</td>\n",
       "      <td>8.0</td>\n",
       "      <td>15</td>\n",
       "      <td>16.0</td>\n",
       "      <td>4:17:14</td>\n",
       "      <td>4/15/2007</td>\n",
       "      <td>129.44.236.130</td>\n",
       "      <td>NaN</td>\n",
       "      <td>129.44.236.130</td>\n",
       "      <td>United States</td>\n",
       "    </tr>\n",
       "    <tr>\n",
       "      <th>2</th>\n",
       "      <td>3</td>\n",
       "      <td>Jamie B</td>\n",
       "      <td>College</td>\n",
       "      <td>White</td>\n",
       "      <td>Male</td>\n",
       "      <td>41.0</td>\n",
       "      <td>Bisexual</td>\n",
       "      <td>10.0</td>\n",
       "      <td>Yes</td>\n",
       "      <td>18</td>\n",
       "      <td>...</td>\n",
       "      <td>10</td>\n",
       "      <td>13.0</td>\n",
       "      <td>10</td>\n",
       "      <td>14.0</td>\n",
       "      <td>5:24:07</td>\n",
       "      <td>4/15/2007</td>\n",
       "      <td>74.109.44.47</td>\n",
       "      <td>NaN</td>\n",
       "      <td>74.109.44.47</td>\n",
       "      <td>United States</td>\n",
       "    </tr>\n",
       "    <tr>\n",
       "      <th>3</th>\n",
       "      <td>4</td>\n",
       "      <td>stevek</td>\n",
       "      <td>College</td>\n",
       "      <td>White</td>\n",
       "      <td>Male</td>\n",
       "      <td>53.0</td>\n",
       "      <td>Straight</td>\n",
       "      <td>3.0</td>\n",
       "      <td>No</td>\n",
       "      <td>9</td>\n",
       "      <td>...</td>\n",
       "      <td>18</td>\n",
       "      <td>4.5</td>\n",
       "      <td>9</td>\n",
       "      <td>13.5</td>\n",
       "      <td>9:57:16</td>\n",
       "      <td>4/15/2007</td>\n",
       "      <td>69.142.164.173</td>\n",
       "      <td>NaN</td>\n",
       "      <td>69.142.164.173</td>\n",
       "      <td>United States</td>\n",
       "    </tr>\n",
       "    <tr>\n",
       "      <th>4</th>\n",
       "      <td>5</td>\n",
       "      <td>jose</td>\n",
       "      <td>College</td>\n",
       "      <td>White</td>\n",
       "      <td>Male</td>\n",
       "      <td>23.0</td>\n",
       "      <td>Straight</td>\n",
       "      <td>9.0</td>\n",
       "      <td>No</td>\n",
       "      <td>9</td>\n",
       "      <td>...</td>\n",
       "      <td>16</td>\n",
       "      <td>5.5</td>\n",
       "      <td>9</td>\n",
       "      <td>12.5</td>\n",
       "      <td>11:05:14</td>\n",
       "      <td>4/15/2007</td>\n",
       "      <td>201.141.114.42</td>\n",
       "      <td>NaN</td>\n",
       "      <td>201.141.114.42</td>\n",
       "      <td>Mexico</td>\n",
       "    </tr>\n",
       "  </tbody>\n",
       "</table>\n",
       "<p>5 rows × 44 columns</p>\n",
       "</div>"
      ],
      "text/plain": [
       "   Unnamed: 0     Name       Degree   Race  Gender   Age Sexorient  Certainty  \\\n",
       "0           1  Niomi M  High School  Black  Female  15.0  Bisexual        9.0   \n",
       "1           2   Phil P  High School  White    Male  31.0     Other        8.0   \n",
       "2           3  Jamie B      College  White    Male  41.0  Bisexual       10.0   \n",
       "3           4   stevek      College  White    Male  53.0  Straight        3.0   \n",
       "4           5     jose      College  White    Male  23.0  Straight        9.0   \n",
       "\n",
       "  Change  Homo      ...        Hetero   Mso  Sor  Sexdrive      Time  \\\n",
       "0     No    17      ...            11  12.0   11      14.0   4:15:15   \n",
       "1     No    15      ...            17   8.0   15      16.0   4:17:14   \n",
       "2    Yes    18      ...            10  13.0   10      14.0   5:24:07   \n",
       "3     No     9      ...            18   4.5    9      13.5   9:57:16   \n",
       "4     No     9      ...            16   5.5    9      12.5  11:05:14   \n",
       "\n",
       "        Date              IP  GroupCode  IP_from_R_analysis        Country  \n",
       "0  4/15/2007      69.69.8.89        NaN          69.69.8.89  United States  \n",
       "1  4/15/2007  129.44.236.130        NaN      129.44.236.130  United States  \n",
       "2  4/15/2007    74.109.44.47        NaN        74.109.44.47  United States  \n",
       "3  4/15/2007  69.142.164.173        NaN      69.142.164.173  United States  \n",
       "4  4/15/2007  201.141.114.42        NaN      201.141.114.42         Mexico  \n",
       "\n",
       "[5 rows x 44 columns]"
      ]
     },
     "execution_count": 46,
     "metadata": {},
     "output_type": "execute_result"
    }
   ],
   "source": [
    "data.head()"
   ]
  },
  {
   "cell_type": "code",
   "execution_count": 47,
   "metadata": {
    "collapsed": true
   },
   "outputs": [],
   "source": [
    "from time import time"
   ]
  },
  {
   "cell_type": "code",
   "execution_count": 48,
   "metadata": {
    "collapsed": true
   },
   "outputs": [],
   "source": [
    "start=time()"
   ]
  },
  {
   "cell_type": "code",
   "execution_count": 49,
   "metadata": {
    "collapsed": true
   },
   "outputs": [],
   "source": [
    "end=time()"
   ]
  },
  {
   "cell_type": "code",
   "execution_count": 52,
   "metadata": {},
   "outputs": [
    {
     "name": "stdout",
     "output_type": "stream",
     "text": [
      "the total time is:8.609732151031494 seconds\n"
     ]
    }
   ],
   "source": [
    "print(\"the total time is:\"+str(end-start)+\" seconds\")"
   ]
  },
  {
   "cell_type": "code",
   "execution_count": null,
   "metadata": {
    "collapsed": true
   },
   "outputs": [],
   "source": [
    "#it cannot deal with the large datasets at all which means that this software is not scalable at all"
   ]
  }
 ],
 "metadata": {
  "kernelspec": {
   "display_name": "Python 3",
   "language": "python",
   "name": "python3"
  },
  "language_info": {
   "codemirror_mode": {
    "name": "ipython",
    "version": 3
   },
   "file_extension": ".py",
   "mimetype": "text/x-python",
   "name": "python",
   "nbconvert_exporter": "python",
   "pygments_lexer": "ipython3",
   "version": "3.6.2"
  }
 },
 "nbformat": 4,
 "nbformat_minor": 2
}
